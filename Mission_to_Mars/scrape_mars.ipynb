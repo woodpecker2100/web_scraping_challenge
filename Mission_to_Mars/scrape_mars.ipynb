{
 "cells": [
  {
   "cell_type": "code",
   "execution_count": 1,
   "metadata": {},
   "outputs": [
    {
     "name": "stderr",
     "output_type": "stream",
     "text": [
      "C:\\Users\\gabor\\AppData\\Local\\Temp\\ipykernel_40064\\3381372087.py:49: FutureWarning: The frame.append method is deprecated and will be removed from pandas in a future version. Use pandas.concat instead.\n",
      "  df = pd.DataFrame([{0:'',1:'Mars',2:'Earth'}, {0:'Description',1:'',2:''}]).append(df)\n"
     ]
    }
   ],
   "source": [
    "from bs4 import BeautifulSoup\n",
    "import requests\n",
    "from splinter import Browser\n",
    "from webdriver_manager.chrome import ChromeDriverManager\n",
    "import pandas as pd\n",
    "\n",
    "def init_browser():\n",
    "    executable_path = {'executable_path': ChromeDriverManager().install()}\n",
    "    browser = Browser('chrome', **executable_path, headless=False)\n",
    "    return browser\n",
    "\n",
    "def scrape():\n",
    "    executable_path = {'executable_path': ChromeDriverManager().install()}\n",
    "    browser = Browser('chrome', **executable_path, headless=False)\n",
    "\n",
    "    # Avoid repeating code and launching broswer multiple times \n",
    "    def scrape1(url_str):\n",
    "        browser.visit(url_str)\n",
    "        html = browser.html\n",
    "        soup = BeautifulSoup(html, \"html.parser\")\n",
    "        return soup\n",
    "\n",
    "    #Collecting Headlines as per the mission-to-mars.ipynb\n",
    "    headlines = {}\n",
    "    url = \"https://redplanetscience.com\"\n",
    "\n",
    "    soup = scrape1(url)\n",
    "    try:\n",
    "        headlines[\"headline\"] = soup.find(\"div\", class_=\"content_title\").get_text().strip()\n",
    "        headlines[\"text\"] = soup.find(\"div\", class_=\"article_teaser_body\").get_text().strip()\n",
    "    except Exception as e:\n",
    "        print(e)\n",
    "    \n",
    "\n",
    "    #Collecting the featured Mars image as per the mission-to-mars.ipynb\n",
    "    url = \"https://spaceimages-mars.com/\"\n",
    "    soup = scrape1(url)\n",
    "    try:\n",
    "        relative_image_path = soup.find_all('img')[1][\"src\"]\n",
    "        featured_image_url = url + relative_image_path\n",
    "    except Exception as e:\n",
    "        print(e)\n",
    "\n",
    "    #Collecting the Galaxy facts as per the mission-to-mars.ipynb\n",
    "    url = \"https://galaxyfacts-mars.com/\"\n",
    "    tables = pd.read_html(url)\n",
    "\n",
    "    df = tables[0]\n",
    "    df = pd.DataFrame([{0:'',1:'Mars',2:'Earth'}, {0:'Description',1:'',2:''}]).append(df)\n",
    "    df.columns = df.iloc[0]\n",
    "    df = df.iloc[1: , :]\n",
    "    df = df.set_index('')\n",
    "    htmltable = (df.to_html()).replace('\\n', '')\n",
    "\n",
    "    #Collecting the high res images from the hemisphere website as per the mission-to-mars.ipynb\n",
    "    url = \"https://marshemispheres.com/\"\n",
    "    hemispheres = []\n",
    "\n",
    "    soup = scrape1(url)\n",
    "    try:\n",
    "        sidebar = soup.find_all('div', class_='item')\n",
    "    except Exception as e:\n",
    "        print(e)\n",
    "\n",
    "    for item in sidebar:\n",
    "        hemi = {}\n",
    "        img_url = item.find('a')['href']\n",
    "        hemi['title'] = (item.find('h3').get_text().strip())\n",
    "    \n",
    "        new_url = url + img_url\n",
    "        soup = scrape1(new_url)\n",
    "    \n",
    "        n = soup.find_all('li')[0]\n",
    "        hemi['img_url'] = (url + n.find('a')['href'])\n",
    "        hemispheres.append(hemi)\n",
    "\n",
    "    browser.quit()\n",
    "\n",
    "    # Return definition as ans\n",
    "    ans = {\"headline\": headlines['headline'],\n",
    "        \"text\": headlines['text'],\n",
    "        \"featured_image\": featured_image_url,\n",
    "        \"facts_table\": htmltable,\n",
    "        \"hemisphere_images\": hemispheres}\n",
    "    \n",
    "    return ans\n",
    "\n",
    "if __name__ == \"__main__\":\n",
    "    scrape()"
   ]
  }
 ],
 "metadata": {
  "kernelspec": {
   "display_name": "Python 3.9.12 ('base')",
   "language": "python",
   "name": "python3"
  },
  "language_info": {
   "codemirror_mode": {
    "name": "ipython",
    "version": 3
   },
   "file_extension": ".py",
   "mimetype": "text/x-python",
   "name": "python",
   "nbconvert_exporter": "python",
   "pygments_lexer": "ipython3",
   "version": "3.9.12"
  },
  "orig_nbformat": 4,
  "vscode": {
   "interpreter": {
    "hash": "06f08a86488b8a78a9cd4e3f66d2671e08f43e0526daedde5899d301fef1abde"
   }
  }
 },
 "nbformat": 4,
 "nbformat_minor": 2
}
